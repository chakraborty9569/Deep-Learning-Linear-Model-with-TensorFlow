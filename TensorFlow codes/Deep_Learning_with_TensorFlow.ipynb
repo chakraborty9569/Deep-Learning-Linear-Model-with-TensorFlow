{
 "cells": [
  {
   "cell_type": "code",
   "execution_count": 1,
   "metadata": {},
   "outputs": [],
   "source": [
    "#importing necessary libraries\n",
    "#tensorflow.compat.v1 library is used here instead of tensorflow as the placeholder method is not supported in tensorflow\n",
    "import numpy as np\n",
    "import matplotlib.pyplot as plt\n",
    "import tensorflow.compat.v1 as tf"
   ]
  },
  {
   "cell_type": "code",
   "execution_count": 2,
   "metadata": {},
   "outputs": [],
   "source": [
    "observations=1000\n",
    "\n",
    "# considering two inputs\n",
    "xs = np.random.uniform(-10,10,(observations,1))\n",
    "zs = np.random.uniform(-10,10,(observations,1))\n",
    "\n",
    "inputs=np.column_stack((xs,zs))\n",
    "\n",
    "# generating target\n",
    "noise = np.random.uniform(-1,1,(observations,1))\n",
    "target = 2*xs - 5*zs + 5 + noise\n",
    "\n",
    "# saving the data set in a file with .npz extension as it is the file format supported in tensorflow\n",
    "np.savez('TF_INTRO', rad1=inputs, rad2=target)"
   ]
  },
  {
   "cell_type": "code",
   "execution_count": 3,
   "metadata": {},
   "outputs": [],
   "source": [
    "input_size=2\n",
    "output_size=1"
   ]
  },
  {
   "cell_type": "code",
   "execution_count": 4,
   "metadata": {},
   "outputs": [
    {
     "name": "stdout",
     "output_type": "stream",
     "text": [
      "WARNING:tensorflow:From C:\\Users\\SUMIT\\anaconda3\\lib\\site-packages\\tensorflow_core\\python\\compat\\v2_compat.py:88: disable_resource_variables (from tensorflow.python.ops.variable_scope) is deprecated and will be removed in a future version.\n",
      "Instructions for updating:\n",
      "non-resource variables are not supported in the long term\n"
     ]
    }
   ],
   "source": [
    "# setting up the inputs, targets, weights and bias for our model\n",
    "\"\"\"\n",
    "here nothing is calculated or displayed as a result as at first\n",
    "we need to tell the tensorflow what it need to perform specifically\n",
    "\"\"\"\n",
    "\n",
    "# the below code is for outlining the model\n",
    "\n",
    "tf.disable_v2_behavior()\n",
    "rad1=tf.placeholder(tf.float32,[None,input_size])\n",
    "rad2=tf.placeholder(tf.float32,[None,output_size])\n",
    "\n",
    "weights=tf.Variable(tf.random_uniform([input_size,output_size],-0.1,0.1))\n",
    "bias=tf.Variable(tf.random_uniform([output_size],-0.1,0.1))\n",
    "\n",
    "# statement for the estimated output y=xw+b\n",
    "output=tf.matmul(rad1,weights)+bias"
   ]
  },
  {
   "cell_type": "code",
   "execution_count": 5,
   "metadata": {},
   "outputs": [],
   "source": [
    "# getting the loss function and the optimization function algorithm\n",
    "# again nothing is printed as output as it is for outlining the model\n",
    "\n",
    "# tf.losses contains many loss functions in it\n",
    "mean_loss=tf.losses.mean_squared_error(rad2,output)/2.\n",
    "\n",
    "# the learning rate is set to 0.05\n",
    "# tf.train contains many optimization functions in it\n",
    "optimize=tf.train.GradientDescentOptimizer(learning_rate=0.05).minimize(mean_loss)"
   ]
  },
  {
   "cell_type": "code",
   "execution_count": 6,
   "metadata": {},
   "outputs": [],
   "source": [
    "#preparing for execution\n",
    "# in tensorflow the actual training is done inside the sessions\n",
    "sess = tf.InteractiveSession()"
   ]
  },
  {
   "cell_type": "code",
   "execution_count": 7,
   "metadata": {},
   "outputs": [],
   "source": [
    "#initializing the variables(tf.Variable) i.e., the weights and the bias\n",
    "\n",
    "initializer=tf.global_variables_initializer()\n",
    "\n",
    "sess.run(initializer)"
   ]
  },
  {
   "cell_type": "code",
   "execution_count": 8,
   "metadata": {},
   "outputs": [],
   "source": [
    "# loading the data set file saved above in the notebook\n",
    "training_data=np.load('TF_intro.npz')"
   ]
  },
  {
   "cell_type": "code",
   "execution_count": 9,
   "metadata": {},
   "outputs": [
    {
     "name": "stdout",
     "output_type": "stream",
     "text": [
      "496.7056\n",
      "224.35162\n",
      "105.99009\n",
      "53.15829\n",
      "28.840216\n",
      "17.229519\n",
      "11.426737\n",
      "8.350523\n",
      "6.5925107\n",
      "5.4941425\n",
      "4.7404385\n",
      "4.177242\n",
      "3.7271633\n",
      "3.3501441\n",
      "3.024591\n",
      "2.7382228\n",
      "2.4835508\n",
      "2.2556264\n",
      "2.0508938\n",
      "1.8666117\n",
      "1.7005376\n",
      "1.5507741\n",
      "1.4156669\n",
      "1.2937559\n",
      "1.1837364\n",
      "1.0844429\n",
      "0.99482536\n",
      "0.9139393\n",
      "0.8409329\n",
      "0.7750382\n",
      "0.7155625\n",
      "0.66187966\n",
      "0.6134259\n",
      "0.569692\n",
      "0.5302181\n",
      "0.49458888\n",
      "0.4624296\n",
      "0.4334035\n",
      "0.40720382\n",
      "0.3835569\n",
      "0.36221248\n",
      "0.34294787\n",
      "0.32555902\n",
      "0.309864\n",
      "0.29569831\n",
      "0.28291157\n",
      "0.2713708\n",
      "0.26095435\n",
      "0.25155228\n",
      "0.2430659\n",
      "0.2354063\n",
      "0.22849262\n",
      "0.22225212\n",
      "0.21661954\n",
      "0.21153593\n",
      "0.20694736\n",
      "0.20280555\n",
      "0.19906755\n",
      "0.19569327\n",
      "0.19264771\n",
      "0.18989877\n",
      "0.18741758\n",
      "0.18517822\n",
      "0.18315685\n",
      "0.18133268\n",
      "0.17968595\n",
      "0.17819947\n",
      "0.17685801\n",
      "0.17564707\n",
      "0.17455426\n",
      "0.17356767\n",
      "0.1726773\n",
      "0.17187354\n",
      "0.17114826\n",
      "0.17049342\n",
      "0.16990246\n",
      "0.16936903\n",
      "0.16888769\n",
      "0.16845304\n",
      "0.16806088\n",
      "0.1677069\n",
      "0.16738737\n",
      "0.16709895\n",
      "0.16683866\n",
      "0.1666037\n",
      "0.1663915\n",
      "0.16620015\n",
      "0.16602741\n",
      "0.16587144\n",
      "0.16573063\n",
      "0.16560358\n",
      "0.16548891\n",
      "0.16538544\n",
      "0.1652921\n",
      "0.16520767\n",
      "0.16513163\n",
      "0.16506296\n",
      "0.16500089\n",
      "0.16494489\n",
      "0.1648944\n"
     ]
    }
   ],
   "source": [
    "# the epum ,or the loop in simple words, to train the model and find the least possible weights and bias\n",
    "for e in range(100):\n",
    "    \n",
    "    # the first part inside the braces refer to the loss function and optimization function set up above\n",
    "    # the second part is for feeding the data in the form of (inputs,targets) from the .npz file. It must be a dictionary\n",
    "    \"\"\"\n",
    "    with each iteration, the data is feeded and the respective loss function is calculated \n",
    "    with the help of Gradient Descent Function. _, is used to supress the 'optimize' values\n",
    "    as it will always give none as the output. We only want the 'mean_loss' values in order to train\n",
    "    the model or in simple words, help the model learn\n",
    "    \"\"\"\n",
    "    _, loss=sess.run([optimize,mean_loss], feed_dict={rad1: training_data['rad1'], rad2: training_data['rad2']})\n",
    "    \n",
    "    print(loss)"
   ]
  },
  {
   "cell_type": "code",
   "execution_count": 10,
   "metadata": {},
   "outputs": [
    {
     "name": "stdout",
     "output_type": "stream",
     "text": [
      "<tf.Variable 'Variable:0' shape=(2, 1) dtype=float32_ref> <tf.Variable 'Variable_1:0' shape=(1,) dtype=float32_ref>\n"
     ]
    }
   ],
   "source": [
    "# getting the size of weights and bias\n",
    "print(weights,bias)"
   ]
  },
  {
   "cell_type": "code",
   "execution_count": 11,
   "metadata": {},
   "outputs": [
    {
     "data": {
      "image/png": "[encoded data removed]",
      "text/plain": [
       "<Figure size 432x288 with 1 Axes>"
      ]
     },
     "metadata": {
      "needs_background": "light"
     },
     "output_type": "display_data"
    }
   ],
   "source": [
    "# plotting a targets vs outputs graph to depict the accuracy of the model\n",
    "out = sess.run([output], feed_dict={rad1:training_data['rad1']})\n",
    "plt.plot(np.squeeze(out),np.squeeze(training_data['rad2']))\n",
    "plt.xlabel('outputs')\n",
    "plt.ylabel('targets')\n",
    "# a line approximately closer to 45 degree inclination will indicate a more accurate model\n",
    "plt.show()"
   ]
  },
  {
   "cell_type": "code",
   "execution_count": null,
   "metadata": {},
   "outputs": [],
   "source": []
  }
 ],
 "metadata": {
  "kernelspec": {
   "display_name": "Python 3",
   "language": "python",
   "name": "python3"
  },
  "language_info": {
   "codemirror_mode": {
    "name": "ipython",
    "version": 3
   },
   "file_extension": ".py",
   "mimetype": "text/x-python",
   "name": "python",
   "nbconvert_exporter": "python",
   "pygments_lexer": "ipython3",
   "version": "3.7.6"
  }
 },
 "nbformat": 4,
 "nbformat_minor": 4
}
